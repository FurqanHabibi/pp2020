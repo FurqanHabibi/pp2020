{
 "cells": [
  {
   "cell_type": "code",
   "execution_count": 1,
   "metadata": {},
   "outputs": [],
   "source": [
    "import os\n",
    "import glob\n",
    "import shutil\n",
    "import numpy as np\n",
    "import random\n",
    "from tqdm import tqdm\n",
    "import scipy.misc\n",
    "import matplotlib.pyplot as plt\n",
    "%matplotlib inline\n",
    "\n",
    "import tensorflow as tf\n",
    "import tensorflow.keras\n",
    "from tensorflow.keras.models import load_model, model_from_json, Model\n",
    "from tensorflow.keras.layers import *\n",
    "from tensorflow.keras import losses\n",
    "from tensorflow.keras.preprocessing import image as kpi\n",
    "from tensorflow.keras.applications.vgg16 import preprocess_input, VGG16"
   ]
  },
  {
   "cell_type": "code",
   "execution_count": 2,
   "metadata": {},
   "outputs": [],
   "source": [
    "def get_image_data(img_path, image_size, space='rgb'):\n",
    "    if space=='rgb':\n",
    "        img = kpi.load_img(img_path, target_size=image_size)\n",
    "        x = kpi.img_to_array(img)\n",
    "        x = np.expand_dims(x, axis=0)\n",
    "        x = preprocess_input(x)\n",
    "        data = x[0]\n",
    "    elif space=='gray':\n",
    "        img = kpi.load_img(img_path, target_size=image_size, grayscale=True)\n",
    "        x = kpi.img_to_array(img)\n",
    "        x /= 255.\n",
    "        data = x\n",
    "    return data"
   ]
  },
  {
   "cell_type": "code",
   "execution_count": 3,
   "metadata": {},
   "outputs": [],
   "source": [
    "def VGG_FCN():\n",
    "    i_x = Input(shape=(480, 640, 3))\n",
    "    x = VGG16(include_top=False, weights='imagenet')(i_x)\n",
    "    x = Lambda(lambda x: x/255.)(x)\n",
    "    o_x = Conv2D(1, kernel_size=(3,3), strides=(1,1),padding=\"SAME\")(x)\n",
    "    model = Model(inputs=i_x, outputs=o_x)\n",
    "    return model"
   ]
  },
  {
   "cell_type": "code",
   "execution_count": 4,
   "metadata": {},
   "outputs": [
    {
     "name": "stdout",
     "output_type": "stream",
     "text": [
      "Model: \"model\"\n",
      "_________________________________________________________________\n",
      "Layer (type)                 Output Shape              Param #   \n",
      "=================================================================\n",
      "input_1 (InputLayer)         [(None, 480, 640, 3)]     0         \n",
      "_________________________________________________________________\n",
      "vgg16 (Functional)           (None, None, None, 512)   14714688  \n",
      "_________________________________________________________________\n",
      "lambda (Lambda)              (None, 15, 20, 512)       0         \n",
      "_________________________________________________________________\n",
      "conv2d (Conv2D)              (None, 15, 20, 1)         4609      \n",
      "=================================================================\n",
      "Total params: 14,719,297\n",
      "Trainable params: 14,719,297\n",
      "Non-trainable params: 0\n",
      "_________________________________________________________________\n"
     ]
    }
   ],
   "source": [
    "model = VGG_FCN()\n",
    "model.summary()\n",
    "model.compile(loss='mse', optimizer=\"sgd\", metrics=[])"
   ]
  },
  {
   "cell_type": "code",
   "execution_count": 5,
   "metadata": {},
   "outputs": [
    {
     "name": "stderr",
     "output_type": "stream",
     "text": [
      "  0%|          | 0/698 [00:00<?, ?it/s]/home/mathsci/miniconda3/envs/n-cript/lib/python3.8/site-packages/keras_preprocessing/image/utils.py:107: UserWarning: grayscale is deprecated. Please use color_mode = \"grayscale\"\n",
      "  warnings.warn('grayscale is deprecated. Please use '\n",
      "100%|██████████| 698/698 [00:11<00:00, 63.37it/s]\n"
     ]
    }
   ],
   "source": [
    "X = np.zeros((698, 480, 640, 3), np.float32)\n",
    "Y = np.zeros((698, 15, 20, 1), np.float32)\n",
    "\n",
    "for img_id in tqdm(range(698)):\n",
    "    x = get_image_data('./EMOd/images/%04d.jpg'%(img_id+1), (480, 640), 'rgb')\n",
    "    y = get_image_data('./EMOd/sensitivity/%04d_sensitivity.jpg'%(img_id+1), (15, 20), 'gray')\n",
    "    X[img_id] = x\n",
    "    Y[img_id] = y"
   ]
  },
  {
   "cell_type": "code",
   "execution_count": 6,
   "metadata": {},
   "outputs": [
    {
     "name": "stdout",
     "output_type": "stream",
     "text": [
      "Epoch 1/30\n",
      "140/140 [==============================] - 473s 3s/step - loss: 0.1155 - val_loss: 0.0580\n",
      "Epoch 2/30\n",
      "140/140 [==============================] - 398s 3s/step - loss: 0.0788 - val_loss: 0.0746\n",
      "Epoch 3/30\n",
      "140/140 [==============================] - 401s 3s/step - loss: 0.0739 - val_loss: 0.0576\n",
      "Epoch 4/30\n",
      "140/140 [==============================] - 415s 3s/step - loss: 0.0686 - val_loss: 0.0637\n",
      "Epoch 5/30\n",
      "140/140 [==============================] - 428s 3s/step - loss: 0.0675 - val_loss: 0.0531\n",
      "Epoch 6/30\n",
      "140/140 [==============================] - 408s 3s/step - loss: 0.0626 - val_loss: 0.0599\n",
      "Epoch 7/30\n",
      "140/140 [==============================] - 423s 3s/step - loss: 0.0618 - val_loss: 0.0555\n",
      "Epoch 8/30\n",
      "140/140 [==============================] - 402s 3s/step - loss: 0.0640 - val_loss: 0.0540\n",
      "Epoch 9/30\n",
      "140/140 [==============================] - 411s 3s/step - loss: 0.0595 - val_loss: 0.0828\n",
      "Epoch 10/30\n",
      "140/140 [==============================] - 385s 3s/step - loss: 0.0540 - val_loss: 0.0521\n",
      "Epoch 11/30\n",
      "140/140 [==============================] - 378s 3s/step - loss: 0.0524 - val_loss: 0.0532\n",
      "Epoch 12/30\n",
      "140/140 [==============================] - 379s 3s/step - loss: 0.0486 - val_loss: 0.0565\n",
      "Epoch 13/30\n",
      "140/140 [==============================] - 382s 3s/step - loss: 0.0457 - val_loss: 0.0537\n",
      "Epoch 14/30\n",
      "140/140 [==============================] - 380s 3s/step - loss: 0.0462 - val_loss: 0.1096\n",
      "Epoch 15/30\n",
      "140/140 [==============================] - 376s 3s/step - loss: 0.0442 - val_loss: 0.0816\n",
      "Epoch 16/30\n",
      "140/140 [==============================] - 379s 3s/step - loss: 0.0442 - val_loss: 0.0534\n",
      "Epoch 17/30\n",
      "140/140 [==============================] - 381s 3s/step - loss: 0.0382 - val_loss: 0.0531\n",
      "Epoch 18/30\n",
      "140/140 [==============================] - 381s 3s/step - loss: 0.0381 - val_loss: 0.0526\n",
      "Epoch 19/30\n",
      "140/140 [==============================] - 380s 3s/step - loss: 0.0330 - val_loss: 0.0522\n",
      "Epoch 20/30\n",
      "140/140 [==============================] - 378s 3s/step - loss: 0.0341 - val_loss: 0.0535\n",
      "Epoch 21/30\n",
      "140/140 [==============================] - 381s 3s/step - loss: 0.0316 - val_loss: 0.0561\n",
      "Epoch 22/30\n",
      "140/140 [==============================] - 381s 3s/step - loss: 0.0318 - val_loss: 0.0612\n",
      "Epoch 23/30\n",
      "140/140 [==============================] - 384s 3s/step - loss: 0.0326 - val_loss: 0.0535\n",
      "Epoch 24/30\n",
      "140/140 [==============================] - 421s 3s/step - loss: 0.0279 - val_loss: 0.0565\n",
      "Epoch 25/30\n",
      "140/140 [==============================] - 420s 3s/step - loss: 0.0269 - val_loss: 0.0609\n",
      "Epoch 26/30\n",
      "140/140 [==============================] - 419s 3s/step - loss: 0.0255 - val_loss: 0.0536\n",
      "Epoch 27/30\n",
      "140/140 [==============================] - 424s 3s/step - loss: 0.0240 - val_loss: 0.0566\n",
      "Epoch 28/30\n",
      "140/140 [==============================] - 420s 3s/step - loss: 0.0249 - val_loss: 0.0544\n",
      "Epoch 29/30\n",
      "140/140 [==============================] - 427s 3s/step - loss: 0.0233 - val_loss: 0.0551\n",
      "Epoch 30/30\n",
      "140/140 [==============================] - 389s 3s/step - loss: 0.0216 - val_loss: 0.0592\n"
     ]
    },
    {
     "data": {
      "text/plain": [
       "<tensorflow.python.keras.callbacks.History at 0x7fc730295df0>"
      ]
     },
     "execution_count": 6,
     "metadata": {},
     "output_type": "execute_result"
    }
   ],
   "source": [
    "model.fit(X, Y, batch_size=4, shuffle=True, epochs=30, verbose=1, validation_split=0.2)"
   ]
  },
  {
   "cell_type": "code",
   "execution_count": 7,
   "metadata": {},
   "outputs": [
    {
     "data": {
      "text/plain": [
       "<matplotlib.image.AxesImage at 0x7fc7a3d90b50>"
      ]
     },
     "execution_count": 7,
     "metadata": {},
     "output_type": "execute_result"
    },
    {
     "data": {
      "image/png": "[encoded data removed]",
      "text/plain": [
       "<Figure size 432x288 with 1 Axes>"
      ]
     },
     "metadata": {
      "needs_background": "light"
     },
     "output_type": "display_data"
    }
   ],
   "source": [
    "x = np.expand_dims(get_image_data('./EMOd/images/0003.jpg', (480, 640), 'rgb'), axis=0)\n",
    "y = model.predict(x)\n",
    "plt.imshow(y[0,:,:,0])"
   ]
  },
  {
   "cell_type": "code",
   "execution_count": 8,
   "metadata": {},
   "outputs": [
    {
     "name": "stderr",
     "output_type": "stream",
     "text": [
      "/home/mathsci/miniconda3/envs/n-cript/lib/python3.8/site-packages/tensorflow/python/keras/engine/training.py:2325: UserWarning: `Model.state_updates` will be removed in a future version. This property should not be used in TensorFlow 2.0, as `updates` are applied automatically.\n",
      "  warnings.warn('`Model.state_updates` will be removed in a future version. '\n",
      "/home/mathsci/miniconda3/envs/n-cript/lib/python3.8/site-packages/tensorflow/python/keras/engine/base_layer.py:1397: UserWarning: `layer.updates` will be removed in a future version. This property should not be used in TensorFlow 2.0, as `updates` are applied automatically.\n",
      "  warnings.warn('`layer.updates` will be removed in a future version. '\n"
     ]
    },
    {
     "name": "stdout",
     "output_type": "stream",
     "text": [
      "WARNING:tensorflow:FOR KERAS USERS: The object that you are saving contains one or more Keras models or layers. If you are loading the SavedModel with `tf.keras.models.load_model`, continue reading (otherwise, you may ignore the following instructions). Please change your code to save with `tf.keras.models.save_model` or `model.save`, and confirm that the file \"keras.metadata\" exists in the export directory. In the future, Keras will only load the SavedModels that have this file. In other words, `tf.saved_model.save` will no longer write SavedModels that can be recovered as Keras models (this will apply in TF 2.5).\n",
      "\n",
      "FOR DEVS: If you are overwriting _tracking_metadata in your class, this property has been used to save metadata in the SavedModel. The metadta field will be deprecated soon, so please move the metadata to a different file.\n",
      "INFO:tensorflow:Assets written to: sensitivity_map_model/assets\n"
     ]
    }
   ],
   "source": [
    "model.save('sensitivity_map_model') "
   ]
  },
  {
   "cell_type": "code",
   "execution_count": 9,
   "metadata": {},
   "outputs": [
    {
     "data": {
      "text/plain": [
       "<matplotlib.image.AxesImage at 0x7fc7a322ba60>"
      ]
     },
     "execution_count": 9,
     "metadata": {},
     "output_type": "execute_result"
    },
    {
     "data": {
      "image/png": "[encoded data removed]",
      "text/plain": [
       "<Figure size 432x288 with 1 Axes>"
      ]
     },
     "metadata": {
      "needs_background": "light"
     },
     "output_type": "display_data"
    }
   ],
   "source": [
    "new_model = load_model('sensitivity_map_model')\n",
    "new_y = model.predict(x)\n",
    "plt.imshow(new_y[0,:,:,0])"
   ]
  }
 ],
 "metadata": {
  "kernelspec": {
   "display_name": "Python 3",
   "language": "python",
   "name": "python3"
  },
  "language_info": {
   "codemirror_mode": {
    "name": "ipython",
    "version": 3
   },
   "file_extension": ".py",
   "mimetype": "text/x-python",
   "name": "python",
   "nbconvert_exporter": "python",
   "pygments_lexer": "ipython3",
   "version": "3.8.5"
  }
 },
 "nbformat": 4,
 "nbformat_minor": 4
}
